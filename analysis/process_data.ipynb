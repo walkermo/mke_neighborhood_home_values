{
 "cells": [
  {
   "cell_type": "code",
   "execution_count": 1,
   "metadata": {
    "collapsed": true
   },
   "outputs": [],
   "source": [
    "import os\n",
    "import pandas as pd\n",
    "import numpy as np"
   ]
  },
  {
   "cell_type": "markdown",
   "metadata": {},
   "source": [
    "# 1) Import, analyze and join census data"
   ]
  },
  {
   "cell_type": "markdown",
   "metadata": {},
   "source": [
    "#### Start with population data"
   ]
  },
  {
   "cell_type": "code",
   "execution_count": 2,
   "metadata": {
    "collapsed": false
   },
   "outputs": [],
   "source": [
    "census_dir = os.getcwd() + '/../census/'"
   ]
  },
  {
   "cell_type": "code",
   "execution_count": 3,
   "metadata": {
    "collapsed": true
   },
   "outputs": [],
   "source": [
    "### read in population data\n",
    "pop_raw = pd.read_csv(census_dir + 'population.csv', skiprows=1)\n",
    "\n",
    "### drop unneeded columns and rename main col\n",
    "pop_df = pop_raw.drop(['Id', 'Margin of Error; Total', 'Geography'], axis = 1)\\\n",
    "            .rename(columns={'Estimate; Total': 'population',\n",
    "                            'Id2': 'GEOID'})"
   ]
  },
  {
   "cell_type": "code",
   "execution_count": 4,
   "metadata": {
    "collapsed": false
   },
   "outputs": [
    {
     "data": {
      "text/html": [
       "<div>\n",
       "<table border=\"1\" class=\"dataframe\">\n",
       "  <thead>\n",
       "    <tr style=\"text-align: right;\">\n",
       "      <th></th>\n",
       "      <th>GEOID</th>\n",
       "      <th>population</th>\n",
       "    </tr>\n",
       "  </thead>\n",
       "  <tbody>\n",
       "    <tr>\n",
       "      <th>0</th>\n",
       "      <td>55079000101</td>\n",
       "      <td>4469</td>\n",
       "    </tr>\n",
       "  </tbody>\n",
       "</table>\n",
       "</div>"
      ],
      "text/plain": [
       "         GEOID  population\n",
       "0  55079000101        4469"
      ]
     },
     "execution_count": 4,
     "metadata": {},
     "output_type": "execute_result"
    }
   ],
   "source": [
    "pop_df.head(1)"
   ]
  },
  {
   "cell_type": "markdown",
   "metadata": {},
   "source": [
    "#### Read in tenure (homeownership) data"
   ]
  },
  {
   "cell_type": "code",
   "execution_count": 5,
   "metadata": {
    "collapsed": true
   },
   "outputs": [],
   "source": [
    "tenure_raw = pd.read_csv(census_dir + 'tenure.csv', skiprows=1)"
   ]
  },
  {
   "cell_type": "code",
   "execution_count": 6,
   "metadata": {
    "collapsed": true
   },
   "outputs": [],
   "source": [
    "### drop unneeded columns\n",
    "tenure_raw = tenure_raw.drop(['Id', 'Margin of Error; Total:', 'Geography',\n",
    "                              'Margin of Error; Total: - Owner occupied',\n",
    "                              'Margin of Error; Total: - Renter occupied'], axis = 1)\n",
    "\n",
    "### rename cols to be more concise\n",
    "tenure = tenure_raw.rename(columns={'Id2': 'GEOID',\n",
    "                                    'Estimate; Total:': 'households',\n",
    "                                   'Estimate; Total: - Owner occupied': 'owner_occupied',\n",
    "                                   'Estimate; Total: - Renter occupied': 'renter_occupied'})"
   ]
  },
  {
   "cell_type": "code",
   "execution_count": 7,
   "metadata": {
    "collapsed": true
   },
   "outputs": [],
   "source": [
    "### calc homeownership rate\n",
    "tenure['pct_owned'] = np.round(tenure.owner_occupied / tenure.households * 100, 1)\n",
    "\n",
    "### save to final, simplified df\n",
    "tenure_final = tenure[['GEOID', 'pct_owned']]"
   ]
  },
  {
   "cell_type": "markdown",
   "metadata": {},
   "source": [
    "#### Median household income data"
   ]
  },
  {
   "cell_type": "code",
   "execution_count": 8,
   "metadata": {
    "collapsed": true
   },
   "outputs": [],
   "source": [
    "income_raw = pd.read_csv(census_dir + 'median_household_income.csv', skiprows=1)"
   ]
  },
  {
   "cell_type": "code",
   "execution_count": 9,
   "metadata": {
    "collapsed": false
   },
   "outputs": [
    {
     "data": {
      "text/html": [
       "<div>\n",
       "<table border=\"1\" class=\"dataframe\">\n",
       "  <thead>\n",
       "    <tr style=\"text-align: right;\">\n",
       "      <th></th>\n",
       "      <th>Id</th>\n",
       "      <th>Id2</th>\n",
       "      <th>Geography</th>\n",
       "      <th>Estimate; Median household income in the past 12 months (in 2017 inflation-adjusted dollars)</th>\n",
       "      <th>Margin of Error; Median household income in the past 12 months (in 2017 inflation-adjusted dollars)</th>\n",
       "    </tr>\n",
       "  </thead>\n",
       "  <tbody>\n",
       "    <tr>\n",
       "      <th>0</th>\n",
       "      <td>1400000US55079000101</td>\n",
       "      <td>55079000101</td>\n",
       "      <td>Census Tract 1.01, Milwaukee County, Wisconsin</td>\n",
       "      <td>30676</td>\n",
       "      <td>9062</td>\n",
       "    </tr>\n",
       "  </tbody>\n",
       "</table>\n",
       "</div>"
      ],
      "text/plain": [
       "                     Id          Id2  \\\n",
       "0  1400000US55079000101  55079000101   \n",
       "\n",
       "                                        Geography  \\\n",
       "0  Census Tract 1.01, Milwaukee County, Wisconsin   \n",
       "\n",
       "  Estimate; Median household income in the past 12 months (in 2017 inflation-adjusted dollars)  \\\n",
       "0                                              30676                                             \n",
       "\n",
       "  Margin of Error; Median household income in the past 12 months (in 2017 inflation-adjusted dollars)  \n",
       "0                                               9062                                                   "
      ]
     },
     "execution_count": 9,
     "metadata": {},
     "output_type": "execute_result"
    }
   ],
   "source": [
    "income_raw.head(1)"
   ]
  },
  {
   "cell_type": "code",
   "execution_count": 10,
   "metadata": {
    "collapsed": true
   },
   "outputs": [],
   "source": [
    "### remove unneeded columns and rename primary one\n",
    "income_df = income_raw.drop(['Id', 'Geography',\n",
    "    'Margin of Error; Median household income in the past 12 months (in 2017 inflation-adjusted dollars)'],\n",
    "            axis = 1)\n",
    "\n",
    "income_df = income_df.rename(columns={\n",
    "    'Estimate; Median household income in the past 12 months (in 2017 inflation-adjusted dollars)':\\\n",
    "    'median_hh_income',\n",
    "    'Id2': 'GEOID'})"
   ]
  },
  {
   "cell_type": "code",
   "execution_count": 11,
   "metadata": {
    "collapsed": false
   },
   "outputs": [
    {
     "name": "stdout",
     "output_type": "stream",
     "text": [
      "<class 'pandas.core.frame.DataFrame'>\n",
      "RangeIndex: 298 entries, 0 to 297\n",
      "Data columns (total 2 columns):\n",
      "GEOID               298 non-null int64\n",
      "median_hh_income    298 non-null object\n",
      "dtypes: int64(1), object(1)\n",
      "memory usage: 4.7+ KB\n"
     ]
    }
   ],
   "source": [
    "#### looks like income field is not numeric. \n",
    "income_df.info()"
   ]
  },
  {
   "cell_type": "code",
   "execution_count": 12,
   "metadata": {
    "collapsed": true
   },
   "outputs": [],
   "source": [
    "### convert income field to int. replace any fields that are empty with nulls, and copy to new df\n",
    "income_df.median_hh_income = income_df.median_hh_income.replace('-', np.nan).astype('float')\n",
    "\n",
    "income_final = income_df.copy(deep=True)"
   ]
  },
  {
   "cell_type": "code",
   "execution_count": 13,
   "metadata": {
    "collapsed": false
   },
   "outputs": [
    {
     "data": {
      "text/html": [
       "<div>\n",
       "<table border=\"1\" class=\"dataframe\">\n",
       "  <thead>\n",
       "    <tr style=\"text-align: right;\">\n",
       "      <th></th>\n",
       "      <th>GEOID</th>\n",
       "      <th>median_hh_income</th>\n",
       "      <th>population</th>\n",
       "    </tr>\n",
       "  </thead>\n",
       "  <tbody>\n",
       "    <tr>\n",
       "      <th>0</th>\n",
       "      <td>55079009700</td>\n",
       "      <td>NaN</td>\n",
       "      <td>1661</td>\n",
       "    </tr>\n",
       "    <tr>\n",
       "      <th>1</th>\n",
       "      <td>55079980000</td>\n",
       "      <td>NaN</td>\n",
       "      <td>0</td>\n",
       "    </tr>\n",
       "    <tr>\n",
       "      <th>2</th>\n",
       "      <td>55079990000</td>\n",
       "      <td>NaN</td>\n",
       "      <td>0</td>\n",
       "    </tr>\n",
       "  </tbody>\n",
       "</table>\n",
       "</div>"
      ],
      "text/plain": [
       "         GEOID  median_hh_income  population\n",
       "0  55079009700               NaN        1661\n",
       "1  55079980000               NaN           0\n",
       "2  55079990000               NaN           0"
      ]
     },
     "execution_count": 13,
     "metadata": {},
     "output_type": "execute_result"
    }
   ],
   "source": [
    "### three tracts have no income available. only one actually has people living in it.\n",
    "### we'll imput data for that tract with igures from an adjacent one (acknowledge this\n",
    "### an imperfect approach, but, since a tract's income is more likely to be similar to an\n",
    "### adjacent tract than the overall city average, I'd argue this is a better way to impute\n",
    "### a missing value)\n",
    "income_final[income_final.median_hh_income.isnull()].merge(pop_df, on='GEOID', how='inner')"
   ]
  },
  {
   "cell_type": "code",
   "execution_count": 14,
   "metadata": {
    "collapsed": true
   },
   "outputs": [],
   "source": [
    "### impute missing income with values from adjacent tract\n",
    "### 55079009700 will take value from 55079012200\n",
    "income_final.median_hh_income = np.where(income_final.GEOID==55079009700,\n",
    "                    income_final[income_final.GEOID==55079012200].median_hh_income,\n",
    "                    income_final.median_hh_income)"
   ]
  },
  {
   "cell_type": "code",
   "execution_count": 15,
   "metadata": {
    "collapsed": false
   },
   "outputs": [
    {
     "data": {
      "text/html": [
       "<div>\n",
       "<table border=\"1\" class=\"dataframe\">\n",
       "  <thead>\n",
       "    <tr style=\"text-align: right;\">\n",
       "      <th></th>\n",
       "      <th>GEOID</th>\n",
       "      <th>median_hh_income</th>\n",
       "    </tr>\n",
       "  </thead>\n",
       "  <tbody>\n",
       "    <tr>\n",
       "      <th>100</th>\n",
       "      <td>55079009700</td>\n",
       "      <td>23722.0</td>\n",
       "    </tr>\n",
       "  </tbody>\n",
       "</table>\n",
       "</div>"
      ],
      "text/plain": [
       "           GEOID  median_hh_income\n",
       "100  55079009700           23722.0"
      ]
     },
     "execution_count": 15,
     "metadata": {},
     "output_type": "execute_result"
    }
   ],
   "source": [
    "### did that work? Yes\n",
    "income_final[income_final.GEOID==55079009700]"
   ]
  },
  {
   "cell_type": "markdown",
   "metadata": {},
   "source": [
    "#### Race/ethnicity data"
   ]
  },
  {
   "cell_type": "code",
   "execution_count": 16,
   "metadata": {
    "collapsed": true
   },
   "outputs": [],
   "source": [
    "demos_raw = pd.read_csv(census_dir + 'race_ethnicity.csv', skiprows=1)"
   ]
  },
  {
   "cell_type": "code",
   "execution_count": 17,
   "metadata": {
    "collapsed": false
   },
   "outputs": [
    {
     "data": {
      "text/html": [
       "<div>\n",
       "<table border=\"1\" class=\"dataframe\">\n",
       "  <thead>\n",
       "    <tr style=\"text-align: right;\">\n",
       "      <th></th>\n",
       "      <th>Id</th>\n",
       "      <th>Id2</th>\n",
       "      <th>Geography</th>\n",
       "      <th>Estimate; Total:</th>\n",
       "      <th>Margin of Error; Total:</th>\n",
       "      <th>Estimate; Not Hispanic or Latino:</th>\n",
       "      <th>Margin of Error; Not Hispanic or Latino:</th>\n",
       "      <th>Estimate; Not Hispanic or Latino: - White alone</th>\n",
       "      <th>Margin of Error; Not Hispanic or Latino: - White alone</th>\n",
       "      <th>Estimate; Not Hispanic or Latino: - Black or African American alone</th>\n",
       "      <th>...</th>\n",
       "      <th>Estimate; Hispanic or Latino: - Native Hawaiian and Other Pacific Islander alone</th>\n",
       "      <th>Margin of Error; Hispanic or Latino: - Native Hawaiian and Other Pacific Islander alone</th>\n",
       "      <th>Estimate; Hispanic or Latino: - Some other race alone</th>\n",
       "      <th>Margin of Error; Hispanic or Latino: - Some other race alone</th>\n",
       "      <th>Estimate; Hispanic or Latino: - Two or more races:</th>\n",
       "      <th>Margin of Error; Hispanic or Latino: - Two or more races:</th>\n",
       "      <th>Estimate; Hispanic or Latino: - Two or more races: - Two races including Some other race</th>\n",
       "      <th>Margin of Error; Hispanic or Latino: - Two or more races: - Two races including Some other race</th>\n",
       "      <th>Estimate; Hispanic or Latino: - Two or more races: - Two races excluding Some other race, and three or more races</th>\n",
       "      <th>Margin of Error; Hispanic or Latino: - Two or more races: - Two races excluding Some other race, and three or more races</th>\n",
       "    </tr>\n",
       "  </thead>\n",
       "  <tbody>\n",
       "    <tr>\n",
       "      <th>0</th>\n",
       "      <td>1400000US55079000101</td>\n",
       "      <td>55079000101</td>\n",
       "      <td>Census Tract 1.01, Milwaukee County, Wisconsin</td>\n",
       "      <td>4469</td>\n",
       "      <td>453</td>\n",
       "      <td>4312</td>\n",
       "      <td>488</td>\n",
       "      <td>1332</td>\n",
       "      <td>295</td>\n",
       "      <td>2845</td>\n",
       "      <td>...</td>\n",
       "      <td>0</td>\n",
       "      <td>9</td>\n",
       "      <td>95</td>\n",
       "      <td>80</td>\n",
       "      <td>0</td>\n",
       "      <td>9</td>\n",
       "      <td>0</td>\n",
       "      <td>9</td>\n",
       "      <td>0</td>\n",
       "      <td>9</td>\n",
       "    </tr>\n",
       "  </tbody>\n",
       "</table>\n",
       "<p>1 rows × 45 columns</p>\n",
       "</div>"
      ],
      "text/plain": [
       "                     Id          Id2  \\\n",
       "0  1400000US55079000101  55079000101   \n",
       "\n",
       "                                        Geography  Estimate; Total:  \\\n",
       "0  Census Tract 1.01, Milwaukee County, Wisconsin              4469   \n",
       "\n",
       "   Margin of Error; Total:  Estimate; Not Hispanic or Latino:  \\\n",
       "0                      453                               4312   \n",
       "\n",
       "   Margin of Error; Not Hispanic or Latino:  \\\n",
       "0                                       488   \n",
       "\n",
       "   Estimate; Not Hispanic or Latino: - White alone  \\\n",
       "0                                             1332   \n",
       "\n",
       "   Margin of Error; Not Hispanic or Latino: - White alone  \\\n",
       "0                                                295        \n",
       "\n",
       "   Estimate; Not Hispanic or Latino: - Black or African American alone  \\\n",
       "0                                               2845                     \n",
       "\n",
       "                                                             ...                                                             \\\n",
       "0                                                            ...                                                              \n",
       "\n",
       "   Estimate; Hispanic or Latino: - Native Hawaiian and Other Pacific Islander alone  \\\n",
       "0                                                  0                                  \n",
       "\n",
       "   Margin of Error; Hispanic or Latino: - Native Hawaiian and Other Pacific Islander alone  \\\n",
       "0                                                  9                                         \n",
       "\n",
       "   Estimate; Hispanic or Latino: - Some other race alone  \\\n",
       "0                                                 95       \n",
       "\n",
       "   Margin of Error; Hispanic or Latino: - Some other race alone  \\\n",
       "0                                                 80              \n",
       "\n",
       "   Estimate; Hispanic or Latino: - Two or more races:  \\\n",
       "0                                                  0    \n",
       "\n",
       "   Margin of Error; Hispanic or Latino: - Two or more races:  \\\n",
       "0                                                  9           \n",
       "\n",
       "   Estimate; Hispanic or Latino: - Two or more races: - Two races including Some other race  \\\n",
       "0                                                  0                                          \n",
       "\n",
       "   Margin of Error; Hispanic or Latino: - Two or more races: - Two races including Some other race  \\\n",
       "0                                                  9                                                 \n",
       "\n",
       "   Estimate; Hispanic or Latino: - Two or more races: - Two races excluding Some other race, and three or more races  \\\n",
       "0                                                  0                                                                   \n",
       "\n",
       "   Margin of Error; Hispanic or Latino: - Two or more races: - Two races excluding Some other race, and three or more races  \n",
       "0                                                  9                                                                         \n",
       "\n",
       "[1 rows x 45 columns]"
      ]
     },
     "execution_count": 17,
     "metadata": {},
     "output_type": "execute_result"
    }
   ],
   "source": [
    "demos_raw.head(1)"
   ]
  },
  {
   "cell_type": "code",
   "execution_count": 18,
   "metadata": {
    "collapsed": true
   },
   "outputs": [],
   "source": [
    "#### need to remove unneeded columns\n",
    "margin_cols = [x for x in demos_raw.columns if 'Margin' in x]\n",
    "\n",
    "demos_raw = demos_raw.drop(margin_cols, axis = 1)"
   ]
  },
  {
   "cell_type": "code",
   "execution_count": 19,
   "metadata": {
    "collapsed": true
   },
   "outputs": [],
   "source": [
    "### the columns eventually needed are\n",
    "# white, non-hispanic pct\n",
    "# hispanic pct\n",
    "# black, non-hispanic pct\n",
    "# asian, non-hispanic pct\n",
    "\n",
    "demos_raw = demos_raw.rename(columns={'Id2': 'GEOID',\n",
    "    'Estimate; Not Hispanic or Latino: - White alone': 'white_non_hisp',\n",
    "    'Estimate; Not Hispanic or Latino: - Black or African American alone': 'black_non_hisp',\n",
    "    'Estimate; Not Hispanic or Latino: - Asian alone': 'asian_non_hisp',\n",
    "    'Estimate; Hispanic or Latino:': 'hisp_latino'\n",
    "})"
   ]
  },
  {
   "cell_type": "code",
   "execution_count": 20,
   "metadata": {
    "collapsed": true
   },
   "outputs": [],
   "source": [
    "### narrow to just those cosl\n",
    "demos = demos_raw[['GEOID', 'white_non_hisp', 'black_non_hisp', 'asian_non_hisp', 'hisp_latino']]"
   ]
  },
  {
   "cell_type": "code",
   "execution_count": 21,
   "metadata": {
    "collapsed": true
   },
   "outputs": [],
   "source": [
    "### merge with pop data to be able to calculate percentages\n",
    "#### merge demos with pop\n",
    "demos_final = pop_df.merge(demos, how='outer', on='GEOID')\n",
    "\n",
    "demos_final['pct_white'] = np.round(demos_final.white_non_hisp /\\\n",
    "                                    demos_final.population * 100, 1)\n",
    "\n",
    "demos_final['pct_black'] = np.round(demos_final.black_non_hisp /\\\n",
    "                                    demos_final.population * 100, 1)\n",
    "\n",
    "demos_final['pct_hisp'] = np.round(demos_final.hisp_latino /\\\n",
    "                                    demos_final.population * 100, 1)\n",
    "\n",
    "demos_final['pct_asian'] = np.round(demos_final.asian_non_hisp /\\\n",
    "                                    demos_final.population * 100, 1)"
   ]
  },
  {
   "cell_type": "code",
   "execution_count": 22,
   "metadata": {
    "collapsed": true
   },
   "outputs": [],
   "source": [
    "### narrow to just pct cols\n",
    "demos_final = demos_final[['GEOID', 'population', 'pct_white', 'pct_black',\n",
    "                          'pct_hisp', 'pct_asian']]"
   ]
  },
  {
   "cell_type": "markdown",
   "metadata": {},
   "source": [
    "#### educational attainment"
   ]
  },
  {
   "cell_type": "code",
   "execution_count": 23,
   "metadata": {
    "collapsed": false
   },
   "outputs": [
    {
     "data": {
      "text/html": [
       "<div>\n",
       "<table border=\"1\" class=\"dataframe\">\n",
       "  <thead>\n",
       "    <tr style=\"text-align: right;\">\n",
       "      <th></th>\n",
       "      <th>Id</th>\n",
       "      <th>Id2</th>\n",
       "      <th>Geography</th>\n",
       "      <th>Estimate; Total:</th>\n",
       "      <th>Margin of Error; Total:</th>\n",
       "      <th>Estimate; Total: - No schooling completed</th>\n",
       "      <th>Margin of Error; Total: - No schooling completed</th>\n",
       "      <th>Estimate; Total: - Nursery school</th>\n",
       "      <th>Margin of Error; Total: - Nursery school</th>\n",
       "      <th>Estimate; Total: - Kindergarten</th>\n",
       "      <th>...</th>\n",
       "      <th>Estimate; Total: - Associate's degree</th>\n",
       "      <th>Margin of Error; Total: - Associate's degree</th>\n",
       "      <th>Estimate; Total: - Bachelor's degree</th>\n",
       "      <th>Margin of Error; Total: - Bachelor's degree</th>\n",
       "      <th>Estimate; Total: - Master's degree</th>\n",
       "      <th>Margin of Error; Total: - Master's degree</th>\n",
       "      <th>Estimate; Total: - Professional school degree</th>\n",
       "      <th>Margin of Error; Total: - Professional school degree</th>\n",
       "      <th>Estimate; Total: - Doctorate degree</th>\n",
       "      <th>Margin of Error; Total: - Doctorate degree</th>\n",
       "    </tr>\n",
       "  </thead>\n",
       "  <tbody>\n",
       "    <tr>\n",
       "      <th>0</th>\n",
       "      <td>1400000US55079000101</td>\n",
       "      <td>55079000101</td>\n",
       "      <td>Census Tract 1.01, Milwaukee County, Wisconsin</td>\n",
       "      <td>2581</td>\n",
       "      <td>295</td>\n",
       "      <td>23</td>\n",
       "      <td>28</td>\n",
       "      <td>0</td>\n",
       "      <td>9</td>\n",
       "      <td>0</td>\n",
       "      <td>...</td>\n",
       "      <td>215</td>\n",
       "      <td>136</td>\n",
       "      <td>635</td>\n",
       "      <td>197</td>\n",
       "      <td>158</td>\n",
       "      <td>92</td>\n",
       "      <td>44</td>\n",
       "      <td>56</td>\n",
       "      <td>10</td>\n",
       "      <td>17</td>\n",
       "    </tr>\n",
       "  </tbody>\n",
       "</table>\n",
       "<p>1 rows × 53 columns</p>\n",
       "</div>"
      ],
      "text/plain": [
       "                     Id          Id2  \\\n",
       "0  1400000US55079000101  55079000101   \n",
       "\n",
       "                                        Geography  Estimate; Total:  \\\n",
       "0  Census Tract 1.01, Milwaukee County, Wisconsin              2581   \n",
       "\n",
       "   Margin of Error; Total:  Estimate; Total: - No schooling completed  \\\n",
       "0                      295                                         23   \n",
       "\n",
       "   Margin of Error; Total: - No schooling completed  \\\n",
       "0                                                28   \n",
       "\n",
       "   Estimate; Total: - Nursery school  \\\n",
       "0                                  0   \n",
       "\n",
       "   Margin of Error; Total: - Nursery school  Estimate; Total: - Kindergarten  \\\n",
       "0                                         9                                0   \n",
       "\n",
       "                      ...                      \\\n",
       "0                     ...                       \n",
       "\n",
       "   Estimate; Total: - Associate's degree  \\\n",
       "0                                    215   \n",
       "\n",
       "   Margin of Error; Total: - Associate's degree  \\\n",
       "0                                           136   \n",
       "\n",
       "   Estimate; Total: - Bachelor's degree  \\\n",
       "0                                   635   \n",
       "\n",
       "   Margin of Error; Total: - Bachelor's degree  \\\n",
       "0                                          197   \n",
       "\n",
       "   Estimate; Total: - Master's degree  \\\n",
       "0                                 158   \n",
       "\n",
       "   Margin of Error; Total: - Master's degree  \\\n",
       "0                                         92   \n",
       "\n",
       "   Estimate; Total: - Professional school degree  \\\n",
       "0                                             44   \n",
       "\n",
       "   Margin of Error; Total: - Professional school degree  \\\n",
       "0                                                 56      \n",
       "\n",
       "   Estimate; Total: - Doctorate degree  \\\n",
       "0                                   10   \n",
       "\n",
       "   Margin of Error; Total: - Doctorate degree  \n",
       "0                                          17  \n",
       "\n",
       "[1 rows x 53 columns]"
      ]
     },
     "execution_count": 23,
     "metadata": {},
     "output_type": "execute_result"
    }
   ],
   "source": [
    "education_raw = pd.read_csv(census_dir + 'educational_attainment_25_up.csv', skiprows=1)\n",
    "education_raw.head(1)"
   ]
  },
  {
   "cell_type": "code",
   "execution_count": 24,
   "metadata": {
    "collapsed": true
   },
   "outputs": [],
   "source": [
    "### rename cols to be more concise\n",
    "education_raw = education_raw.rename(columns={'Id2': 'GEOID',\n",
    "                            'Estimate; Total:': 'population_25+',\n",
    "                            'Estimate; Total: - Bachelor\\'s degree': 'bach_degree',\n",
    "                            'Estimate; Total: - Master\\'s degree': 'mast_degree',\n",
    "                            'Estimate; Total: - Professional school degree': 'prof_degree',\n",
    "                            'Estimate; Total: - Doctorate degree': 'doc_degree'})"
   ]
  },
  {
   "cell_type": "code",
   "execution_count": 25,
   "metadata": {
    "collapsed": true
   },
   "outputs": [],
   "source": [
    "### drop unneeded cols\n",
    "education_df = education_raw.drop([x for x in education_raw.columns\\\n",
    "                                if 'Estimate' in x or 'Margin' in x], axis = 1)\\\n",
    "                            .drop(['Id', 'Geography'], axis = 1)"
   ]
  },
  {
   "cell_type": "code",
   "execution_count": 26,
   "metadata": {
    "collapsed": true
   },
   "outputs": [],
   "source": [
    "### calcualte # of people with bachelor's degree or above\n",
    "education_df['bach_plus'] = education_df.bach_degree + education_df.mast_degree\\\n",
    "                            + education_df.prof_degree + education_df.doc_degree\n",
    "    \n",
    "education_df = education_df.drop(['bach_degree', 'mast_degree',\n",
    "                                 'prof_degree', 'doc_degree'], axis = 1)"
   ]
  },
  {
   "cell_type": "code",
   "execution_count": 27,
   "metadata": {
    "collapsed": true
   },
   "outputs": [],
   "source": [
    "### calc pct of people with bachelor's degree or above\n",
    "education_df['pct_coll_plus'] = np.round(education_df.bach_plus /\\\n",
    "                                        education_df['population_25+'] * 100, 1)\n",
    "\n",
    "### narrow to only needed cols\n",
    "education_final = education_df[['GEOID', 'pct_coll_plus']]"
   ]
  },
  {
   "cell_type": "markdown",
   "metadata": {},
   "source": [
    "### merge all the datasets"
   ]
  },
  {
   "cell_type": "code",
   "execution_count": 28,
   "metadata": {
    "collapsed": true
   },
   "outputs": [],
   "source": [
    "all_census = tenure_final.merge(income_final, how = 'outer', on='GEOID')\\\n",
    "                    .merge(demos_final, how = 'outer', on='GEOID')\\\n",
    "                    .merge(education_final, how = 'outer', on='GEOID')"
   ]
  },
  {
   "cell_type": "code",
   "execution_count": 29,
   "metadata": {
    "collapsed": false
   },
   "outputs": [
    {
     "data": {
      "text/html": [
       "<div>\n",
       "<table border=\"1\" class=\"dataframe\">\n",
       "  <thead>\n",
       "    <tr style=\"text-align: right;\">\n",
       "      <th></th>\n",
       "      <th>GEOID</th>\n",
       "      <th>pct_owned</th>\n",
       "      <th>median_hh_income</th>\n",
       "      <th>population</th>\n",
       "      <th>pct_white</th>\n",
       "      <th>pct_black</th>\n",
       "      <th>pct_hisp</th>\n",
       "      <th>pct_asian</th>\n",
       "      <th>pct_coll_plus</th>\n",
       "    </tr>\n",
       "  </thead>\n",
       "  <tbody>\n",
       "    <tr>\n",
       "      <th>0</th>\n",
       "      <td>55079000101</td>\n",
       "      <td>23.4</td>\n",
       "      <td>30676.0</td>\n",
       "      <td>4469</td>\n",
       "      <td>29.8</td>\n",
       "      <td>63.7</td>\n",
       "      <td>3.5</td>\n",
       "      <td>1.0</td>\n",
       "      <td>32.8</td>\n",
       "    </tr>\n",
       "    <tr>\n",
       "      <th>1</th>\n",
       "      <td>55079000102</td>\n",
       "      <td>46.5</td>\n",
       "      <td>40242.0</td>\n",
       "      <td>3666</td>\n",
       "      <td>26.8</td>\n",
       "      <td>56.0</td>\n",
       "      <td>6.2</td>\n",
       "      <td>9.4</td>\n",
       "      <td>20.3</td>\n",
       "    </tr>\n",
       "    <tr>\n",
       "      <th>2</th>\n",
       "      <td>55079000201</td>\n",
       "      <td>17.5</td>\n",
       "      <td>26596.0</td>\n",
       "      <td>5073</td>\n",
       "      <td>14.7</td>\n",
       "      <td>60.4</td>\n",
       "      <td>18.6</td>\n",
       "      <td>2.9</td>\n",
       "      <td>13.3</td>\n",
       "    </tr>\n",
       "    <tr>\n",
       "      <th>3</th>\n",
       "      <td>55079000202</td>\n",
       "      <td>53.5</td>\n",
       "      <td>59136.0</td>\n",
       "      <td>6757</td>\n",
       "      <td>39.1</td>\n",
       "      <td>47.0</td>\n",
       "      <td>7.4</td>\n",
       "      <td>2.4</td>\n",
       "      <td>29.2</td>\n",
       "    </tr>\n",
       "    <tr>\n",
       "      <th>4</th>\n",
       "      <td>55079000301</td>\n",
       "      <td>90.4</td>\n",
       "      <td>67031.0</td>\n",
       "      <td>1462</td>\n",
       "      <td>83.2</td>\n",
       "      <td>13.2</td>\n",
       "      <td>1.8</td>\n",
       "      <td>1.8</td>\n",
       "      <td>28.6</td>\n",
       "    </tr>\n",
       "  </tbody>\n",
       "</table>\n",
       "</div>"
      ],
      "text/plain": [
       "         GEOID  pct_owned  median_hh_income  population  pct_white  pct_black  \\\n",
       "0  55079000101       23.4           30676.0        4469       29.8       63.7   \n",
       "1  55079000102       46.5           40242.0        3666       26.8       56.0   \n",
       "2  55079000201       17.5           26596.0        5073       14.7       60.4   \n",
       "3  55079000202       53.5           59136.0        6757       39.1       47.0   \n",
       "4  55079000301       90.4           67031.0        1462       83.2       13.2   \n",
       "\n",
       "   pct_hisp  pct_asian  pct_coll_plus  \n",
       "0       3.5        1.0           32.8  \n",
       "1       6.2        9.4           20.3  \n",
       "2      18.6        2.9           13.3  \n",
       "3       7.4        2.4           29.2  \n",
       "4       1.8        1.8           28.6  "
      ]
     },
     "execution_count": 29,
     "metadata": {},
     "output_type": "execute_result"
    }
   ],
   "source": [
    "all_census.head()"
   ]
  },
  {
   "cell_type": "markdown",
   "metadata": {},
   "source": [
    "#### last census step -- import geo data to calculate pop density"
   ]
  },
  {
   "cell_type": "code",
   "execution_count": 30,
   "metadata": {
    "collapsed": true
   },
   "outputs": [],
   "source": [
    "### this csv was generated from a tract shapefile in QGIS\n",
    "tracts = pd.read_csv(census_dir + 'mke_county_tract_geo.csv')\n",
    "\n",
    "### narrow to area and geoid fields\n",
    "tracts = tracts[['GEOID', 'ALAND']]"
   ]
  },
  {
   "cell_type": "code",
   "execution_count": 31,
   "metadata": {
    "collapsed": true
   },
   "outputs": [],
   "source": [
    "### merge with rest of census data and calc pop density\n",
    "all_census = all_census.merge(tracts, on='GEOID', how='left')"
   ]
  },
  {
   "cell_type": "code",
   "execution_count": 32,
   "metadata": {
    "collapsed": true
   },
   "outputs": [],
   "source": [
    "### calc pop density\n",
    "all_census['pop_density'] = np.round(all_census.population / all_census.ALAND * 10000, 3)"
   ]
  },
  {
   "cell_type": "markdown",
   "metadata": {},
   "source": [
    "# 2) Process crime data"
   ]
  },
  {
   "cell_type": "code",
   "execution_count": 33,
   "metadata": {
    "collapsed": true
   },
   "outputs": [],
   "source": [
    "crime_dir = os.getcwd() + '/../crime/'\n",
    "\n",
    "crime_raw = pd.read_csv(crime_dir + 'wibr.csv', encoding='latin1')"
   ]
  },
  {
   "cell_type": "code",
   "execution_count": 34,
   "metadata": {
    "collapsed": false
   },
   "outputs": [
    {
     "name": "stdout",
     "output_type": "stream",
     "text": [
      "<class 'pandas.core.frame.DataFrame'>\n",
      "RangeIndex: 686232 entries, 0 to 686231\n",
      "Data columns (total 24 columns):\n",
      "IncidentNum         686232 non-null int64\n",
      "ReportedDateTime    686232 non-null object\n",
      "ReportedYear        686232 non-null int64\n",
      "ReportedMonth       686232 non-null int64\n",
      "Location            673358 non-null object\n",
      "WeaponUsed          332398 non-null object\n",
      "ALD                 672509 non-null float64\n",
      "NSP                 416772 non-null float64\n",
      "POLICE              672509 non-null float64\n",
      "TRACT               672509 non-null float64\n",
      "WARD                672509 non-null float64\n",
      "ZIP                 672509 non-null float64\n",
      "RoughX              672509 non-null float64\n",
      "RoughY              672509 non-null float64\n",
      "Arson               686232 non-null int64\n",
      "AssaultOffense      686232 non-null int64\n",
      "Burglary            686232 non-null int64\n",
      "CriminalDamage      686232 non-null int64\n",
      "Homicide            686232 non-null int64\n",
      "LockedVehicle       686232 non-null int64\n",
      "Robbery             686232 non-null int64\n",
      "SexOffense          686232 non-null int64\n",
      "Theft               686232 non-null int64\n",
      "VehicleTheft        686232 non-null int64\n",
      "dtypes: float64(8), int64(13), object(3)\n",
      "memory usage: 125.7+ MB\n"
     ]
    }
   ],
   "source": [
    "### From this data, we're going to calculate homicide rates, other violent crime rates\n",
    "### and property crime rates, we'll also calculate violent crime trend\n",
    "\n",
    "### preview fields\n",
    "crime_raw.info()"
   ]
  },
  {
   "cell_type": "code",
   "execution_count": 35,
   "metadata": {
    "collapsed": true
   },
   "outputs": [],
   "source": [
    "### limit data to just crime from 2015-2018\n",
    "crime_since_15 = crime_raw[(crime_raw.ReportedYear >= 2015)\n",
    "                          & (crime_raw.ReportedYear <= 2018)].copy(deep=True)"
   ]
  },
  {
   "cell_type": "code",
   "execution_count": 36,
   "metadata": {
    "collapsed": true
   },
   "outputs": [],
   "source": [
    "### group crime at the census tract level\n",
    "crime_by_tract = crime_since_15.groupby('TRACT')['Arson', 'AssaultOffense','Burglary',\n",
    "                        'CriminalDamage', 'Homicide', 'LockedVehicle', 'Robbery',\n",
    "                        'SexOffense', 'Theft', 'VehicleTheft'].sum().reset_index()"
   ]
  },
  {
   "cell_type": "code",
   "execution_count": 37,
   "metadata": {
    "collapsed": true
   },
   "outputs": [],
   "source": [
    "### group by homicides, other violent crime and property crime\n",
    "crime_by_tract['other_violent_crime'] = crime_by_tract.AssaultOffense\\\n",
    "                + crime_by_tract.SexOffense + crime_by_tract.Robbery\n",
    "\n",
    "crime_by_tract['property_crime'] = crime_by_tract.Arson + crime_by_tract.Burglary +\\\n",
    "                crime_by_tract.CriminalDamage + crime_by_tract.LockedVehicle +\\\n",
    "                crime_by_tract.Theft + crime_by_tract.VehicleTheft"
   ]
  },
  {
   "cell_type": "code",
   "execution_count": 38,
   "metadata": {
    "collapsed": true
   },
   "outputs": [],
   "source": [
    "### narrow to final fields\n",
    "crime_by_tract = crime_by_tract[['TRACT', 'Homicide', 'other_violent_crime', 'property_crime']]"
   ]
  },
  {
   "cell_type": "code",
   "execution_count": 39,
   "metadata": {
    "collapsed": true
   },
   "outputs": [],
   "source": [
    "### lastly, we want to calculate violent crime trend (including homicides)\n",
    "### We're going to compare 15/16 to 17/18\n",
    "\n",
    "### create a violent_crime field\n",
    "crime_since_15['violent_crime'] = crime_since_15.Homicide + crime_since_15.AssaultOffense\\\n",
    "                            + crime_since_15.SexOffense + crime_since_15.Robbery\n",
    "\n",
    "crime_15_16 = crime_since_15[crime_since_15.ReportedYear <= 2016]\\\n",
    "                    .groupby('TRACT')['violent_crime'].sum().reset_index()\\\n",
    "                    .rename(columns={'violent_crime': '15_16_violent_crime'})\n",
    "\n",
    "crime_17_18 = crime_since_15[crime_since_15.ReportedYear >= 2017]\\\n",
    "                    .groupby('TRACT')['violent_crime'].sum().reset_index()\\\n",
    "                    .rename(columns={'violent_crime': '17_18_violent_crime'})"
   ]
  },
  {
   "cell_type": "code",
   "execution_count": 40,
   "metadata": {
    "collapsed": true
   },
   "outputs": [],
   "source": [
    "### because percentage changes with small numbers can be misleading, we're just going to use the raw change\n",
    "crime_changes = crime_15_16.merge(crime_17_18, how='left', on='TRACT').fillna(0)\n",
    "\n",
    "crime_changes['violent_crime_trend'] = crime_changes['17_18_violent_crime']\\\n",
    "                                        - crime_changes['15_16_violent_crime']\n",
    "\n",
    "### narrow to final field\n",
    "crime_changes = crime_changes[['TRACT', 'violent_crime_trend']]"
   ]
  },
  {
   "cell_type": "code",
   "execution_count": 41,
   "metadata": {
    "collapsed": true
   },
   "outputs": [],
   "source": [
    "### merge back in with rest of crime data"
   ]
  },
  {
   "cell_type": "code",
   "execution_count": 42,
   "metadata": {
    "collapsed": true
   },
   "outputs": [],
   "source": [
    "crime_by_tract = crime_by_tract.merge(crime_changes, how='left', on = 'TRACT')"
   ]
  },
  {
   "cell_type": "code",
   "execution_count": 43,
   "metadata": {
    "collapsed": false
   },
   "outputs": [
    {
     "data": {
      "text/html": [
       "<div>\n",
       "<table border=\"1\" class=\"dataframe\">\n",
       "  <thead>\n",
       "    <tr style=\"text-align: right;\">\n",
       "      <th></th>\n",
       "      <th>TRACT</th>\n",
       "      <th>Homicide</th>\n",
       "      <th>other_violent_crime</th>\n",
       "      <th>property_crime</th>\n",
       "      <th>violent_crime_trend</th>\n",
       "      <th>GEOID</th>\n",
       "    </tr>\n",
       "  </thead>\n",
       "  <tbody>\n",
       "    <tr>\n",
       "      <th>0</th>\n",
       "      <td>0.0</td>\n",
       "      <td>0</td>\n",
       "      <td>3</td>\n",
       "      <td>25</td>\n",
       "      <td>-1.0</td>\n",
       "      <td>55079000000</td>\n",
       "    </tr>\n",
       "    <tr>\n",
       "      <th>1</th>\n",
       "      <td>101.0</td>\n",
       "      <td>4</td>\n",
       "      <td>533</td>\n",
       "      <td>815</td>\n",
       "      <td>87.0</td>\n",
       "      <td>55079000101</td>\n",
       "    </tr>\n",
       "    <tr>\n",
       "      <th>2</th>\n",
       "      <td>102.0</td>\n",
       "      <td>0</td>\n",
       "      <td>316</td>\n",
       "      <td>911</td>\n",
       "      <td>30.0</td>\n",
       "      <td>55079000102</td>\n",
       "    </tr>\n",
       "    <tr>\n",
       "      <th>3</th>\n",
       "      <td>201.0</td>\n",
       "      <td>4</td>\n",
       "      <td>624</td>\n",
       "      <td>787</td>\n",
       "      <td>102.0</td>\n",
       "      <td>55079000201</td>\n",
       "    </tr>\n",
       "    <tr>\n",
       "      <th>4</th>\n",
       "      <td>202.0</td>\n",
       "      <td>2</td>\n",
       "      <td>353</td>\n",
       "      <td>802</td>\n",
       "      <td>33.0</td>\n",
       "      <td>55079000202</td>\n",
       "    </tr>\n",
       "  </tbody>\n",
       "</table>\n",
       "</div>"
      ],
      "text/plain": [
       "   TRACT  Homicide  other_violent_crime  property_crime  violent_crime_trend  \\\n",
       "0    0.0         0                    3              25                 -1.0   \n",
       "1  101.0         4                  533             815                 87.0   \n",
       "2  102.0         0                  316             911                 30.0   \n",
       "3  201.0         4                  624             787                102.0   \n",
       "4  202.0         2                  353             802                 33.0   \n",
       "\n",
       "         GEOID  \n",
       "0  55079000000  \n",
       "1  55079000101  \n",
       "2  55079000102  \n",
       "3  55079000201  \n",
       "4  55079000202  "
      ]
     },
     "execution_count": 43,
     "metadata": {},
     "output_type": "execute_result"
    }
   ],
   "source": [
    "### lastly, add in the full geo prefix to tract labels that's used in census data\n",
    "crime_by_tract['GEOID'] = ('55079' + crime_by_tract.TRACT.astype('int').astype('str').replace('.',\n",
    "                                        0).str.zfill(6)).astype('int')\n",
    "\n",
    "crime_by_tract.head()"
   ]
  },
  {
   "cell_type": "code",
   "execution_count": 44,
   "metadata": {
    "collapsed": true
   },
   "outputs": [],
   "source": [
    "### drop original tract field\n",
    "crime_by_tract = crime_by_tract.drop('TRACT', axis =1)"
   ]
  },
  {
   "cell_type": "markdown",
   "metadata": {},
   "source": [
    "# 3) Process assessment and vacant property records"
   ]
  },
  {
   "cell_type": "code",
   "execution_count": 45,
   "metadata": {
    "collapsed": true
   },
   "outputs": [],
   "source": [
    "prop_dir = file_dir = os.getcwd() + '/../buildings/'\n",
    "\n",
    "prop_raw = pd.read_csv(file_dir + 'mprop.csv')"
   ]
  },
  {
   "cell_type": "code",
   "execution_count": 46,
   "metadata": {
    "collapsed": false
   },
   "outputs": [
    {
     "data": {
      "text/plain": [
       "Index(['TAXKEY', 'SUB_ACCT', 'YR_ASSMT', 'CHK_DIGIT', 'TAX_RATE_CD',\n",
       "       'PLAT_PAGE', 'HOUSE_NR_LO', 'HOUSE_NR_HI', 'HOUSE_NR_SFX', 'SDIR',\n",
       "       'STREET', 'STTYPE', 'C_A_CLASS', 'C_A_SYMBOL', 'C_A_LAND', 'C_A_IMPRV',\n",
       "       'C_A_TOTAL', 'C_A_EXM_TYPE', 'C_A_EXM_LAND', 'C_A_EXM_IMPRV',\n",
       "       'C_A_EXM_TOTAL', 'P_A_CLASS', 'P_A_SYMBOL', 'P_A_LAND', 'P_A_IMPRV',\n",
       "       'P_A_TOTAL', 'P_A_EXM_TYPE', 'P_A_EXM_LAND', 'P_A_EXM_IMPRV',\n",
       "       'P_A_EXM_TOTAL', 'LAST_VALUE_CHG', 'REASON_FOR_CHG', 'CONVEY_DATE',\n",
       "       'CONVEY_TYPE', 'CONVEY_FEE', 'CHG_NR', 'DIV_ORG', 'DIV_DROP',\n",
       "       'OWNER_NAME_1', 'OWNER_NAME_2', 'OWNER_NAME_3', 'OWNER_MAIL_ADDR',\n",
       "       'OWNER_CITY_STATE', 'OWNER_ZIP', 'LAST_NAME_CHG', 'NEIGHBORHOOD',\n",
       "       'EXM_ACREAGE', 'EXM_PER_CT_LAND', 'EXM_PER_CT_IMPRV', 'BLDG_TYPE',\n",
       "       'NR_STORIES', 'BASEMENT', 'ATTIC', 'NR_UNITS', 'BLDG_AREA', 'YR_BUILT',\n",
       "       'SWIM_POOL', 'FIREPLACE', 'AIR_CONDITIONING', 'NR_ROOMS', 'BEDROOMS',\n",
       "       'BATHS', 'POWDER_ROOMS', 'PARKING_SPACES', 'PARKING_TYPE', 'LOT_AREA',\n",
       "       'CORNER_LOT', 'ZONING', 'LAND_USE', 'LAND_USE_GP', 'OWN_OCPD',\n",
       "       'GEO_TRACT', 'GEO_BLOCK', 'GEO_ZIP_CODE', 'GEO_ALDER_OLD', 'GEO_POLICE',\n",
       "       'GEO_FIRE', 'GEO_BI_MAINT', 'DPW_SANITATION', 'GEO_ALDER', 'HIST_CODE',\n",
       "       'ANGLE', 'MSBYTE', 'MSBLOCK', 'ELEMENT', 'MSLINK', 'MAPID', 'TAX_DELQ',\n",
       "       'BI_VIOL', 'RAZE_STATUS', 'MAP_NAME', 'MAP_EXT'],\n",
       "      dtype='object')"
      ]
     },
     "execution_count": 46,
     "metadata": {},
     "output_type": "execute_result"
    }
   ],
   "source": [
    "prop_raw.columns"
   ]
  },
  {
   "cell_type": "code",
   "execution_count": 47,
   "metadata": {
    "collapsed": false
   },
   "outputs": [
    {
     "name": "stdout",
     "output_type": "stream",
     "text": [
      "<class 'pandas.core.frame.DataFrame'>\n",
      "RangeIndex: 161647 entries, 0 to 161646\n",
      "Data columns (total 92 columns):\n",
      "TAXKEY              161647 non-null int64\n",
      "SUB_ACCT            0 non-null float64\n",
      "YR_ASSMT            161262 non-null float64\n",
      "CHK_DIGIT           0 non-null float64\n",
      "TAX_RATE_CD         161644 non-null float64\n",
      "PLAT_PAGE           139956 non-null float64\n",
      "HOUSE_NR_LO         161647 non-null int64\n",
      "HOUSE_NR_HI         161647 non-null int64\n",
      "HOUSE_NR_SFX        5859 non-null object\n",
      "SDIR                161643 non-null object\n",
      "STREET              161643 non-null object\n",
      "STTYPE              161350 non-null object\n",
      "C_A_CLASS           161260 non-null float64\n",
      "C_A_SYMBOL          28915 non-null object\n",
      "C_A_LAND            161647 non-null int64\n",
      "C_A_IMPRV           161647 non-null int64\n",
      "C_A_TOTAL           161647 non-null int64\n",
      "C_A_EXM_TYPE        8968 non-null float64\n",
      "C_A_EXM_LAND        161647 non-null int64\n",
      "C_A_EXM_IMPRV       161647 non-null int64\n",
      "C_A_EXM_TOTAL       161647 non-null int64\n",
      "P_A_CLASS           151530 non-null float64\n",
      "P_A_SYMBOL          29120 non-null object\n",
      "P_A_LAND            161647 non-null int64\n",
      "P_A_IMPRV           161647 non-null int64\n",
      "P_A_TOTAL           161647 non-null int64\n",
      "P_A_EXM_TYPE        8826 non-null float64\n",
      "P_A_EXM_LAND        161647 non-null int64\n",
      "P_A_EXM_IMPRV       161647 non-null int64\n",
      "P_A_EXM_TOTAL       161647 non-null int64\n",
      "LAST_VALUE_CHG      161262 non-null object\n",
      "REASON_FOR_CHG      161262 non-null object\n",
      "CONVEY_DATE         156304 non-null object\n",
      "CONVEY_TYPE         146259 non-null object\n",
      "CONVEY_FEE          161647 non-null int64\n",
      "CHG_NR              0 non-null float64\n",
      "DIV_ORG             0 non-null float64\n",
      "DIV_DROP            0 non-null float64\n",
      "OWNER_NAME_1        161260 non-null object\n",
      "OWNER_NAME_2        57309 non-null object\n",
      "OWNER_NAME_3        5291 non-null object\n",
      "OWNER_MAIL_ADDR     161258 non-null object\n",
      "OWNER_CITY_STATE    161258 non-null object\n",
      "OWNER_ZIP           161245 non-null object\n",
      "LAST_NAME_CHG       161260 non-null object\n",
      "NEIGHBORHOOD        151108 non-null float64\n",
      "EXM_ACREAGE         0 non-null float64\n",
      "EXM_PER_CT_LAND     0 non-null float64\n",
      "EXM_PER_CT_IMPRV    0 non-null float64\n",
      "BLDG_TYPE           136916 non-null object\n",
      "NR_STORIES          153160 non-null float64\n",
      "BASEMENT            161647 non-null object\n",
      "ATTIC               161647 non-null object\n",
      "NR_UNITS            161630 non-null float64\n",
      "BLDG_AREA           161647 non-null int64\n",
      "YR_BUILT            161647 non-null int64\n",
      "SWIM_POOL           0 non-null float64\n",
      "FIREPLACE           161647 non-null int64\n",
      "AIR_CONDITIONING    161647 non-null int64\n",
      "NR_ROOMS            161647 non-null int64\n",
      "BEDROOMS            161647 non-null int64\n",
      "BATHS               161647 non-null int64\n",
      "POWDER_ROOMS        161647 non-null int64\n",
      "PARKING_SPACES      0 non-null float64\n",
      "PARKING_TYPE        99179 non-null object\n",
      "LOT_AREA            161260 non-null float64\n",
      "CORNER_LOT          0 non-null float64\n",
      "ZONING              160206 non-null object\n",
      "LAND_USE            160208 non-null float64\n",
      "LAND_USE_GP         160208 non-null float64\n",
      "OWN_OCPD            85704 non-null object\n",
      "GEO_TRACT           160183 non-null float64\n",
      "GEO_BLOCK           160183 non-null float64\n",
      "GEO_ZIP_CODE        159842 non-null float64\n",
      "GEO_ALDER_OLD       160183 non-null float64\n",
      "GEO_POLICE          160183 non-null float64\n",
      "GEO_FIRE            160183 non-null float64\n",
      "GEO_BI_MAINT        0 non-null float64\n",
      "DPW_SANITATION      160183 non-null object\n",
      "GEO_ALDER           161226 non-null float64\n",
      "HIST_CODE           6130 non-null float64\n",
      "ANGLE               0 non-null float64\n",
      "MSBYTE              0 non-null float64\n",
      "MSBLOCK             0 non-null float64\n",
      "ELEMENT             0 non-null float64\n",
      "MSLINK              0 non-null float64\n",
      "MAPID               0 non-null float64\n",
      "TAX_DELQ            161647 non-null int64\n",
      "BI_VIOL             161647 non-null object\n",
      "RAZE_STATUS         161647 non-null int64\n",
      "MAP_NAME            0 non-null float64\n",
      "MAP_EXT             0 non-null float64\n",
      "dtypes: float64(41), int64(26), object(25)\n",
      "memory usage: 113.5+ MB\n"
     ]
    }
   ],
   "source": [
    "''' the fields we care about in this data set are\n",
    "- GEO_TRACT (Equivalent of census tract)\n",
    "- OWN_OCPD\n",
    "- C_A_CLASS\n",
    "- NR_UNITS\n",
    "- LAND_USE\n",
    "- PARKING_TYPE\n",
    "- C_A_TOTAL\n",
    "- AIR_CONDITIONING\n",
    "- BEDROOMS\n",
    "- BATHS\n",
    "- BLDG_AREA\n",
    "- LAND_AREA\n",
    "- LOT_AREA\n",
    "- '''\n",
    "prop_raw.info()"
   ]
  },
  {
   "cell_type": "code",
   "execution_count": 48,
   "metadata": {
    "collapsed": false
   },
   "outputs": [
    {
     "name": "stdout",
     "output_type": "stream",
     "text": [
      "161647\n"
     ]
    },
    {
     "data": {
      "text/plain": [
       "1464"
      ]
     },
     "execution_count": 48,
     "metadata": {},
     "output_type": "execute_result"
    }
   ],
   "source": [
    "### how many parcels are there\n",
    "print(len(prop_raw))\n",
    "### are any missing tracts?\n",
    "len(prop_raw[prop_raw.GEO_TRACT.isnull()])"
   ]
  },
  {
   "cell_type": "code",
   "execution_count": 49,
   "metadata": {
    "collapsed": true
   },
   "outputs": [],
   "source": [
    "### not much we can do about those. just remove those records\n",
    "prop = prop_raw[prop_raw.GEO_TRACT.notnull()].copy(deep=True)"
   ]
  },
  {
   "cell_type": "code",
   "execution_count": 50,
   "metadata": {
    "collapsed": false
   },
   "outputs": [
    {
     "name": "stdout",
     "output_type": "stream",
     "text": [
      "[nan 'O']\n"
     ]
    }
   ],
   "source": [
    "### let's start previewing the fields we care about\n",
    "print(prop.OWN_OCPD.unique())\n",
    "\n",
    "### create cleaner column for owner occupancy\n",
    "prop['own_occ'] = np.where(prop.OWN_OCPD=='O',1, 0)"
   ]
  },
  {
   "cell_type": "code",
   "execution_count": 51,
   "metadata": {
    "collapsed": true
   },
   "outputs": [],
   "source": [
    "### we want to ultimately make calculations regarding residential properties \n",
    "### and single family residential properties. start by flagging as residential\n",
    "### C_A_CLASS of 1 is residential. 5 is mercantil apt. 7 is condo\n",
    "prop['residential'] = np.where((prop.C_A_CLASS==1) |\\\n",
    "                               (prop.C_A_CLASS==5) |\\\n",
    "                               (prop.C_A_CLASS==7), 1, 0)"
   ]
  },
  {
   "cell_type": "code",
   "execution_count": 52,
   "metadata": {
    "collapsed": true
   },
   "outputs": [],
   "source": [
    "### create a flag for sinlge fam\n",
    "prop['single_fam'] = np.where((prop.C_A_CLASS==1)\\\n",
    "                              & (prop.NR_UNITS==1)\\\n",
    "                              & (prop.LAND_USE==8810), 1, 0)"
   ]
  },
  {
   "cell_type": "code",
   "execution_count": 53,
   "metadata": {
    "collapsed": true
   },
   "outputs": [],
   "source": [
    "## Is there a garage?\n",
    "prop['garage'] = np.where(prop.PARKING_TYPE.notnull(), 1, 0)"
   ]
  },
  {
   "cell_type": "markdown",
   "metadata": {},
   "source": [
    "#### Read in and join vacant property data"
   ]
  },
  {
   "cell_type": "code",
   "execution_count": 54,
   "metadata": {
    "collapsed": false
   },
   "outputs": [
    {
     "data": {
      "text/html": [
       "<div>\n",
       "<table border=\"1\" class=\"dataframe\">\n",
       "  <thead>\n",
       "    <tr style=\"text-align: right;\">\n",
       "      <th></th>\n",
       "      <th>RECORDID</th>\n",
       "      <th>RECORDTYPE</th>\n",
       "      <th>STATUS</th>\n",
       "      <th>DATEOPENED</th>\n",
       "      <th>ADDRFULLLINE</th>\n",
       "      <th>BOOK</th>\n",
       "      <th>PARCELNBR</th>\n",
       "      <th>VALUEIMPROVED</th>\n",
       "      <th>vacant</th>\n",
       "    </tr>\n",
       "  </thead>\n",
       "  <tbody>\n",
       "    <tr>\n",
       "      <th>0</th>\n",
       "      <td>VAC-19-00293</td>\n",
       "      <td>Vacant Building</td>\n",
       "      <td>Inspection Due</td>\n",
       "      <td>2019-06-10 00:00:00</td>\n",
       "      <td>5259 N 45TH ST, MILWAUKEE, WI 532183418</td>\n",
       "      <td>8810.0</td>\n",
       "      <td>1910512000</td>\n",
       "      <td>40000.0</td>\n",
       "      <td>1</td>\n",
       "    </tr>\n",
       "    <tr>\n",
       "      <th>1</th>\n",
       "      <td>VAC-19-00296</td>\n",
       "      <td>Vacant Building</td>\n",
       "      <td>Inspection Due</td>\n",
       "      <td>2019-06-10 00:00:00</td>\n",
       "      <td>2933 N 26TH ST, MILWAUKEE, WI 532061122</td>\n",
       "      <td>8810.0</td>\n",
       "      <td>3102115000</td>\n",
       "      <td>0.0</td>\n",
       "      <td>1</td>\n",
       "    </tr>\n",
       "    <tr>\n",
       "      <th>2</th>\n",
       "      <td>VAC-19-00294</td>\n",
       "      <td>Vacant Building</td>\n",
       "      <td>Inspection Due</td>\n",
       "      <td>2019-06-10 00:00:00</td>\n",
       "      <td>2622 W MEDFORD AV, MILWAUKEE, WI 532061027</td>\n",
       "      <td>8820.0</td>\n",
       "      <td>3251021000</td>\n",
       "      <td>20900.0</td>\n",
       "      <td>1</td>\n",
       "    </tr>\n",
       "    <tr>\n",
       "      <th>3</th>\n",
       "      <td>VAC-19-00286</td>\n",
       "      <td>Vacant Building</td>\n",
       "      <td>Inspection Due</td>\n",
       "      <td>2019-06-07 00:00:00</td>\n",
       "      <td>3360 S 55TH ST, MILWAUKEE, WI 532194434</td>\n",
       "      <td>8810.0</td>\n",
       "      <td>5300808000</td>\n",
       "      <td>84100.0</td>\n",
       "      <td>1</td>\n",
       "    </tr>\n",
       "    <tr>\n",
       "      <th>4</th>\n",
       "      <td>VAC-19-00287</td>\n",
       "      <td>Vacant Building</td>\n",
       "      <td>Inspection Due</td>\n",
       "      <td>2019-06-07 00:00:00</td>\n",
       "      <td>3280 N 37TH ST, MILWAUKEE, WI 532163724</td>\n",
       "      <td>8810.0</td>\n",
       "      <td>2871122000</td>\n",
       "      <td>63400.0</td>\n",
       "      <td>1</td>\n",
       "    </tr>\n",
       "  </tbody>\n",
       "</table>\n",
       "</div>"
      ],
      "text/plain": [
       "       RECORDID       RECORDTYPE          STATUS           DATEOPENED  \\\n",
       "0  VAC-19-00293  Vacant Building  Inspection Due  2019-06-10 00:00:00   \n",
       "1  VAC-19-00296  Vacant Building  Inspection Due  2019-06-10 00:00:00   \n",
       "2  VAC-19-00294  Vacant Building  Inspection Due  2019-06-10 00:00:00   \n",
       "3  VAC-19-00286  Vacant Building  Inspection Due  2019-06-07 00:00:00   \n",
       "4  VAC-19-00287  Vacant Building  Inspection Due  2019-06-07 00:00:00   \n",
       "\n",
       "                                 ADDRFULLLINE    BOOK   PARCELNBR  \\\n",
       "0     5259 N 45TH ST, MILWAUKEE, WI 532183418  8810.0  1910512000   \n",
       "1     2933 N 26TH ST, MILWAUKEE, WI 532061122  8810.0  3102115000   \n",
       "2  2622 W MEDFORD AV, MILWAUKEE, WI 532061027  8820.0  3251021000   \n",
       "3     3360 S 55TH ST, MILWAUKEE, WI 532194434  8810.0  5300808000   \n",
       "4     3280 N 37TH ST, MILWAUKEE, WI 532163724  8810.0  2871122000   \n",
       "\n",
       "   VALUEIMPROVED  vacant  \n",
       "0        40000.0       1  \n",
       "1            0.0       1  \n",
       "2        20900.0       1  \n",
       "3        84100.0       1  \n",
       "4        63400.0       1  "
      ]
     },
     "execution_count": 54,
     "metadata": {},
     "output_type": "execute_result"
    }
   ],
   "source": [
    "vacants = pd.read_csv(file_dir + 'vacants.csv')\n",
    "\n",
    "### add a vacant flat that will be useful later\n",
    "vacants['vacant'] = 1\n",
    "vacants.head()"
   ]
  },
  {
   "cell_type": "code",
   "execution_count": 55,
   "metadata": {
    "collapsed": false
   },
   "outputs": [
    {
     "name": "stdout",
     "output_type": "stream",
     "text": [
      "['Vacant Building']\n"
     ]
    },
    {
     "data": {
      "text/plain": [
       "array(['Inspection Due'], dtype=object)"
      ]
     },
     "execution_count": 55,
     "metadata": {},
     "output_type": "execute_result"
    }
   ],
   "source": [
    "### appears all of these have the same status and should be treated as vacant\n",
    "print(vacants.RECORDTYPE.unique())\n",
    "vacants.STATUS.unique()"
   ]
  },
  {
   "cell_type": "code",
   "execution_count": 56,
   "metadata": {
    "collapsed": true
   },
   "outputs": [],
   "source": [
    "### all we need are the parcel numbers\n",
    "vacants = vacants[['PARCELNBR', 'vacant']].drop_duplicates()"
   ]
  },
  {
   "cell_type": "code",
   "execution_count": 57,
   "metadata": {
    "collapsed": true
   },
   "outputs": [],
   "source": [
    "### merge with property data\n",
    "prop = prop.merge(vacants, how='left', left_on='TAXKEY', right_on='PARCELNBR')"
   ]
  },
  {
   "cell_type": "code",
   "execution_count": 58,
   "metadata": {
    "collapsed": true
   },
   "outputs": [],
   "source": [
    "### fill non-vacant properties with zeroes\n",
    "prop.vacant = prop.vacant.fillna(0)"
   ]
  },
  {
   "cell_type": "code",
   "execution_count": 59,
   "metadata": {
    "collapsed": true
   },
   "outputs": [],
   "source": [
    "### add the full census identifier for mke county to the tract codes\n",
    "prop['GEOID'] = ('55079' + prop.GEO_TRACT.astype('int').astype('str').replace('.',\n",
    "                                        0).str.zfill(6)).astype('int')"
   ]
  },
  {
   "cell_type": "code",
   "execution_count": 60,
   "metadata": {
    "collapsed": true
   },
   "outputs": [],
   "source": [
    "### limit data to just single family residential\n",
    "single_fam = prop[prop.single_fam==1]"
   ]
  },
  {
   "cell_type": "code",
   "execution_count": 61,
   "metadata": {
    "collapsed": true
   },
   "outputs": [],
   "source": [
    "#### Group data points and make calculations at the GEOID level"
   ]
  },
  {
   "cell_type": "code",
   "execution_count": 62,
   "metadata": {
    "collapsed": true
   },
   "outputs": [],
   "source": [
    "## median val\n",
    "median_val = single_fam.groupby('GEOID').C_A_TOTAL.median().reset_index()\\\n",
    "                                .rename(columns={'C_A_TOTAL':'median_value'})"
   ]
  },
  {
   "cell_type": "code",
   "execution_count": 63,
   "metadata": {
    "collapsed": true
   },
   "outputs": [],
   "source": [
    "## owner occupied rate\n",
    "tenure = single_fam.groupby('GEOID').own_occ.mean().reset_index()\\\n",
    "                                .rename(columns={'own_occ': 'pct_owned'})"
   ]
  },
  {
   "cell_type": "code",
   "execution_count": 64,
   "metadata": {
    "collapsed": true
   },
   "outputs": [],
   "source": [
    "## avg. num bedrooms, bathrooms, bldg size, etc\n",
    "single_means = single_fam.groupby('GEOID')['BEDROOMS', 'BATHS', 'BLDG_AREA',\n",
    "                        'LOT_AREA', 'AIR_CONDITIONING', 'garage'].mean().reset_index()"
   ]
  },
  {
   "cell_type": "code",
   "execution_count": 65,
   "metadata": {
    "collapsed": true
   },
   "outputs": [],
   "source": [
    "### calculate vacancy rates\n",
    "vacant_by_geo = prop.groupby('GEOID').vacant.mean().reset_index()"
   ]
  },
  {
   "cell_type": "code",
   "execution_count": 66,
   "metadata": {
    "collapsed": true
   },
   "outputs": [],
   "source": [
    "### calculate num properties in each tract\n",
    "num_props = single_fam.groupby('GEOID').TAXKEY.count().reset_index()\\\n",
    "                        .rename(columns={'TAXKEY': 'num_props'})"
   ]
  },
  {
   "cell_type": "code",
   "execution_count": 67,
   "metadata": {
    "collapsed": true
   },
   "outputs": [],
   "source": [
    "### What pct of sq lot footage is residential of any type?\n",
    "pct_residential = (prop[prop.residential==1].groupby('GEOID').BLDG_AREA.sum() /\\\n",
    "                prop.groupby('GEOID').BLDG_AREA.sum()).reset_index()\\\n",
    "                .rename(columns={'BLDG_AREA': 'pct_residential'})\n",
    "\n",
    "### ad what pct of sq lot footage is single family only?\n",
    "pct_single_fam = (single_fam.groupby('GEOID').BLDG_AREA.sum() /\\\n",
    "                prop.groupby('GEOID').BLDG_AREA.sum()).reset_index().\\\n",
    "                rename(columns={'BLDG_AREA': 'pct_single_fam'})"
   ]
  },
  {
   "cell_type": "code",
   "execution_count": 68,
   "metadata": {
    "collapsed": true
   },
   "outputs": [],
   "source": [
    "### merge the dfs\n",
    "### num_props, median_val, tenure, single_means, vacant_by_geo, pct_residential, pct_single_fam\n",
    "prop_geo = num_props.merge(median_val, how='left', on='GEOID')\\\n",
    "                .merge(tenure, how='left', on='GEOID')\\\n",
    "                .merge(single_means, how='left', on='GEOID')\\\n",
    "                .merge(vacant_by_geo, how='left', on='GEOID')\\\n",
    "                .merge(pct_residential, how='left', on='GEOID')\\\n",
    "                .merge(pct_single_fam, how='left', on='GEOID')"
   ]
  },
  {
   "cell_type": "markdown",
   "metadata": {},
   "source": [
    "# 4) Merge the final datasets"
   ]
  },
  {
   "cell_type": "code",
   "execution_count": 69,
   "metadata": {
    "collapsed": true
   },
   "outputs": [],
   "source": [
    "### drop pct owned col since it's in property data\n",
    "all_census = all_census.drop(['pct_owned'], axis = 1)"
   ]
  },
  {
   "cell_type": "code",
   "execution_count": 70,
   "metadata": {
    "collapsed": false
   },
   "outputs": [
    {
     "data": {
      "text/html": [
       "<div>\n",
       "<table border=\"1\" class=\"dataframe\">\n",
       "  <thead>\n",
       "    <tr style=\"text-align: right;\">\n",
       "      <th></th>\n",
       "      <th>GEOID</th>\n",
       "      <th>median_hh_income</th>\n",
       "      <th>population</th>\n",
       "      <th>pct_white</th>\n",
       "      <th>pct_black</th>\n",
       "      <th>pct_hisp</th>\n",
       "      <th>pct_asian</th>\n",
       "      <th>pct_coll_plus</th>\n",
       "      <th>ALAND</th>\n",
       "      <th>pop_density</th>\n",
       "    </tr>\n",
       "  </thead>\n",
       "  <tbody>\n",
       "    <tr>\n",
       "      <th>0</th>\n",
       "      <td>55079000101</td>\n",
       "      <td>30676.0</td>\n",
       "      <td>4469</td>\n",
       "      <td>29.8</td>\n",
       "      <td>63.7</td>\n",
       "      <td>3.5</td>\n",
       "      <td>1.0</td>\n",
       "      <td>32.8</td>\n",
       "      <td>3817688</td>\n",
       "      <td>11.706</td>\n",
       "    </tr>\n",
       "    <tr>\n",
       "      <th>1</th>\n",
       "      <td>55079000102</td>\n",
       "      <td>40242.0</td>\n",
       "      <td>3666</td>\n",
       "      <td>26.8</td>\n",
       "      <td>56.0</td>\n",
       "      <td>6.2</td>\n",
       "      <td>9.4</td>\n",
       "      <td>20.3</td>\n",
       "      <td>6508343</td>\n",
       "      <td>5.633</td>\n",
       "    </tr>\n",
       "    <tr>\n",
       "      <th>2</th>\n",
       "      <td>55079000201</td>\n",
       "      <td>26596.0</td>\n",
       "      <td>5073</td>\n",
       "      <td>14.7</td>\n",
       "      <td>60.4</td>\n",
       "      <td>18.6</td>\n",
       "      <td>2.9</td>\n",
       "      <td>13.3</td>\n",
       "      <td>7910371</td>\n",
       "      <td>6.413</td>\n",
       "    </tr>\n",
       "    <tr>\n",
       "      <th>3</th>\n",
       "      <td>55079000202</td>\n",
       "      <td>59136.0</td>\n",
       "      <td>6757</td>\n",
       "      <td>39.1</td>\n",
       "      <td>47.0</td>\n",
       "      <td>7.4</td>\n",
       "      <td>2.4</td>\n",
       "      <td>29.2</td>\n",
       "      <td>7881718</td>\n",
       "      <td>8.573</td>\n",
       "    </tr>\n",
       "    <tr>\n",
       "      <th>4</th>\n",
       "      <td>55079000301</td>\n",
       "      <td>67031.0</td>\n",
       "      <td>1462</td>\n",
       "      <td>83.2</td>\n",
       "      <td>13.2</td>\n",
       "      <td>1.8</td>\n",
       "      <td>1.8</td>\n",
       "      <td>28.6</td>\n",
       "      <td>1985210</td>\n",
       "      <td>7.364</td>\n",
       "    </tr>\n",
       "  </tbody>\n",
       "</table>\n",
       "</div>"
      ],
      "text/plain": [
       "         GEOID  median_hh_income  population  pct_white  pct_black  pct_hisp  \\\n",
       "0  55079000101           30676.0        4469       29.8       63.7       3.5   \n",
       "1  55079000102           40242.0        3666       26.8       56.0       6.2   \n",
       "2  55079000201           26596.0        5073       14.7       60.4      18.6   \n",
       "3  55079000202           59136.0        6757       39.1       47.0       7.4   \n",
       "4  55079000301           67031.0        1462       83.2       13.2       1.8   \n",
       "\n",
       "   pct_asian  pct_coll_plus    ALAND  pop_density  \n",
       "0        1.0           32.8  3817688       11.706  \n",
       "1        9.4           20.3  6508343        5.633  \n",
       "2        2.9           13.3  7910371        6.413  \n",
       "3        2.4           29.2  7881718        8.573  \n",
       "4        1.8           28.6  1985210        7.364  "
      ]
     },
     "execution_count": 70,
     "metadata": {},
     "output_type": "execute_result"
    }
   ],
   "source": [
    "all_census.head()"
   ]
  },
  {
   "cell_type": "code",
   "execution_count": 71,
   "metadata": {
    "collapsed": true
   },
   "outputs": [],
   "source": [
    "### this census data includes mke county, which we're not analyzing. to filter out\n",
    "### the county, do an inner join with crime data, which is exclusive to the city\n",
    "census_crime = all_census.merge(crime_by_tract, how='inner', on='GEOID')"
   ]
  },
  {
   "cell_type": "code",
   "execution_count": 72,
   "metadata": {
    "collapsed": false
   },
   "outputs": [
    {
     "data": {
      "text/html": [
       "<div>\n",
       "<table border=\"1\" class=\"dataframe\">\n",
       "  <thead>\n",
       "    <tr style=\"text-align: right;\">\n",
       "      <th></th>\n",
       "      <th>GEOID</th>\n",
       "      <th>median_hh_income</th>\n",
       "      <th>population</th>\n",
       "      <th>pct_white</th>\n",
       "      <th>pct_black</th>\n",
       "      <th>pct_hisp</th>\n",
       "      <th>pct_asian</th>\n",
       "      <th>pct_coll_plus</th>\n",
       "      <th>ALAND</th>\n",
       "      <th>pop_density</th>\n",
       "      <th>Homicide</th>\n",
       "      <th>other_violent_crime</th>\n",
       "      <th>property_crime</th>\n",
       "      <th>violent_crime_trend</th>\n",
       "    </tr>\n",
       "  </thead>\n",
       "  <tbody>\n",
       "    <tr>\n",
       "      <th>0</th>\n",
       "      <td>55079000101</td>\n",
       "      <td>30676.0</td>\n",
       "      <td>4469</td>\n",
       "      <td>29.8</td>\n",
       "      <td>63.7</td>\n",
       "      <td>3.5</td>\n",
       "      <td>1.0</td>\n",
       "      <td>32.8</td>\n",
       "      <td>3817688</td>\n",
       "      <td>11.706</td>\n",
       "      <td>4</td>\n",
       "      <td>533</td>\n",
       "      <td>815</td>\n",
       "      <td>87.0</td>\n",
       "    </tr>\n",
       "    <tr>\n",
       "      <th>1</th>\n",
       "      <td>55079000102</td>\n",
       "      <td>40242.0</td>\n",
       "      <td>3666</td>\n",
       "      <td>26.8</td>\n",
       "      <td>56.0</td>\n",
       "      <td>6.2</td>\n",
       "      <td>9.4</td>\n",
       "      <td>20.3</td>\n",
       "      <td>6508343</td>\n",
       "      <td>5.633</td>\n",
       "      <td>0</td>\n",
       "      <td>316</td>\n",
       "      <td>911</td>\n",
       "      <td>30.0</td>\n",
       "    </tr>\n",
       "    <tr>\n",
       "      <th>2</th>\n",
       "      <td>55079000201</td>\n",
       "      <td>26596.0</td>\n",
       "      <td>5073</td>\n",
       "      <td>14.7</td>\n",
       "      <td>60.4</td>\n",
       "      <td>18.6</td>\n",
       "      <td>2.9</td>\n",
       "      <td>13.3</td>\n",
       "      <td>7910371</td>\n",
       "      <td>6.413</td>\n",
       "      <td>4</td>\n",
       "      <td>624</td>\n",
       "      <td>787</td>\n",
       "      <td>102.0</td>\n",
       "    </tr>\n",
       "    <tr>\n",
       "      <th>3</th>\n",
       "      <td>55079000202</td>\n",
       "      <td>59136.0</td>\n",
       "      <td>6757</td>\n",
       "      <td>39.1</td>\n",
       "      <td>47.0</td>\n",
       "      <td>7.4</td>\n",
       "      <td>2.4</td>\n",
       "      <td>29.2</td>\n",
       "      <td>7881718</td>\n",
       "      <td>8.573</td>\n",
       "      <td>2</td>\n",
       "      <td>353</td>\n",
       "      <td>802</td>\n",
       "      <td>33.0</td>\n",
       "    </tr>\n",
       "    <tr>\n",
       "      <th>4</th>\n",
       "      <td>55079000301</td>\n",
       "      <td>67031.0</td>\n",
       "      <td>1462</td>\n",
       "      <td>83.2</td>\n",
       "      <td>13.2</td>\n",
       "      <td>1.8</td>\n",
       "      <td>1.8</td>\n",
       "      <td>28.6</td>\n",
       "      <td>1985210</td>\n",
       "      <td>7.364</td>\n",
       "      <td>0</td>\n",
       "      <td>23</td>\n",
       "      <td>98</td>\n",
       "      <td>-9.0</td>\n",
       "    </tr>\n",
       "  </tbody>\n",
       "</table>\n",
       "</div>"
      ],
      "text/plain": [
       "         GEOID  median_hh_income  population  pct_white  pct_black  pct_hisp  \\\n",
       "0  55079000101           30676.0        4469       29.8       63.7       3.5   \n",
       "1  55079000102           40242.0        3666       26.8       56.0       6.2   \n",
       "2  55079000201           26596.0        5073       14.7       60.4      18.6   \n",
       "3  55079000202           59136.0        6757       39.1       47.0       7.4   \n",
       "4  55079000301           67031.0        1462       83.2       13.2       1.8   \n",
       "\n",
       "   pct_asian  pct_coll_plus    ALAND  pop_density  Homicide  \\\n",
       "0        1.0           32.8  3817688       11.706         4   \n",
       "1        9.4           20.3  6508343        5.633         0   \n",
       "2        2.9           13.3  7910371        6.413         4   \n",
       "3        2.4           29.2  7881718        8.573         2   \n",
       "4        1.8           28.6  1985210        7.364         0   \n",
       "\n",
       "   other_violent_crime  property_crime  violent_crime_trend  \n",
       "0                  533             815                 87.0  \n",
       "1                  316             911                 30.0  \n",
       "2                  624             787                102.0  \n",
       "3                  353             802                 33.0  \n",
       "4                   23              98                 -9.0  "
      ]
     },
     "execution_count": 72,
     "metadata": {},
     "output_type": "execute_result"
    }
   ],
   "source": [
    "census_crime.head()"
   ]
  },
  {
   "cell_type": "code",
   "execution_count": 73,
   "metadata": {
    "collapsed": true
   },
   "outputs": [],
   "source": [
    "### merge with property df\n",
    "final_df = prop_geo.merge(census_crime, on='GEOID', how='left')"
   ]
  },
  {
   "cell_type": "markdown",
   "metadata": {},
   "source": [
    "### remove any rows in areas where people don't really live"
   ]
  },
  {
   "cell_type": "code",
   "execution_count": 74,
   "metadata": {
    "collapsed": false
   },
   "outputs": [
    {
     "data": {
      "text/html": [
       "<div>\n",
       "<table border=\"1\" class=\"dataframe\">\n",
       "  <thead>\n",
       "    <tr style=\"text-align: right;\">\n",
       "      <th></th>\n",
       "      <th>GEOID</th>\n",
       "      <th>num_props</th>\n",
       "      <th>median_value</th>\n",
       "      <th>pct_owned</th>\n",
       "      <th>BEDROOMS</th>\n",
       "      <th>BATHS</th>\n",
       "      <th>BLDG_AREA</th>\n",
       "      <th>LOT_AREA</th>\n",
       "      <th>AIR_CONDITIONING</th>\n",
       "      <th>garage</th>\n",
       "      <th>...</th>\n",
       "      <th>pct_black</th>\n",
       "      <th>pct_hisp</th>\n",
       "      <th>pct_asian</th>\n",
       "      <th>pct_coll_plus</th>\n",
       "      <th>ALAND</th>\n",
       "      <th>pop_density</th>\n",
       "      <th>Homicide</th>\n",
       "      <th>other_violent_crime</th>\n",
       "      <th>property_crime</th>\n",
       "      <th>violent_crime_trend</th>\n",
       "    </tr>\n",
       "  </thead>\n",
       "  <tbody>\n",
       "    <tr>\n",
       "      <th>193</th>\n",
       "      <td>55079185200</td>\n",
       "      <td>1</td>\n",
       "      <td>163600</td>\n",
       "      <td>1.0</td>\n",
       "      <td>3.0</td>\n",
       "      <td>1.0</td>\n",
       "      <td>2928.0</td>\n",
       "      <td>4375.0</td>\n",
       "      <td>1.0</td>\n",
       "      <td>1.0</td>\n",
       "      <td>...</td>\n",
       "      <td>NaN</td>\n",
       "      <td>NaN</td>\n",
       "      <td>NaN</td>\n",
       "      <td>NaN</td>\n",
       "      <td>NaN</td>\n",
       "      <td>NaN</td>\n",
       "      <td>NaN</td>\n",
       "      <td>NaN</td>\n",
       "      <td>NaN</td>\n",
       "      <td>NaN</td>\n",
       "    </tr>\n",
       "  </tbody>\n",
       "</table>\n",
       "<p>1 rows × 26 columns</p>\n",
       "</div>"
      ],
      "text/plain": [
       "           GEOID  num_props  median_value  pct_owned  BEDROOMS  BATHS  \\\n",
       "193  55079185200          1        163600        1.0       3.0    1.0   \n",
       "\n",
       "     BLDG_AREA  LOT_AREA  AIR_CONDITIONING  garage         ...           \\\n",
       "193     2928.0    4375.0               1.0     1.0         ...            \n",
       "\n",
       "     pct_black  pct_hisp  pct_asian  pct_coll_plus  ALAND  pop_density  \\\n",
       "193        NaN       NaN        NaN            NaN    NaN          NaN   \n",
       "\n",
       "     Homicide  other_violent_crime  property_crime  violent_crime_trend  \n",
       "193       NaN                  NaN             NaN                  NaN  \n",
       "\n",
       "[1 rows x 26 columns]"
      ]
     },
     "execution_count": 74,
     "metadata": {},
     "output_type": "execute_result"
    }
   ],
   "source": [
    "### What's the null record? Looks like nobody lives here, so just drop it\n",
    "final_df[final_df.median_hh_income.isnull()]"
   ]
  },
  {
   "cell_type": "code",
   "execution_count": 75,
   "metadata": {
    "collapsed": true
   },
   "outputs": [],
   "source": [
    "### drop the null record \n",
    "final_df = final_df[final_df.median_hh_income.notnull()]\n",
    "\n",
    "### convert income to int\n",
    "final_df.median_hh_income = final_df.median_hh_income.astype('int')"
   ]
  },
  {
   "cell_type": "code",
   "execution_count": 76,
   "metadata": {
    "collapsed": true
   },
   "outputs": [],
   "source": [
    "### export the file\n",
    "final_df.to_csv(file_dir + '/../analysis/data/final_data.csv', index = False)"
   ]
  }
 ],
 "metadata": {
  "kernelspec": {
   "display_name": "Python 3",
   "language": "python",
   "name": "python3"
  },
  "language_info": {
   "codemirror_mode": {
    "name": "ipython",
    "version": 3
   },
   "file_extension": ".py",
   "mimetype": "text/x-python",
   "name": "python",
   "nbconvert_exporter": "python",
   "pygments_lexer": "ipython3",
   "version": "3.6.0"
  }
 },
 "nbformat": 4,
 "nbformat_minor": 2
}
